{
 "cells": [
  {
   "cell_type": "code",
   "execution_count": 21,
   "metadata": {},
   "outputs": [],
   "source": [
    "import pandas as pd\n",
    "import numpy as np\n",
    "import joblib\n",
    "import os\n",
    "import sklearn\n",
    "from sklearn.linear_model import LinearRegression\n",
    "from sklearn.ensemble import RandomForestRegressor\n",
    "from sklearn.model_selection import train_test_split\n",
    "from sklearn.multioutput import MultiOutputRegressor"
   ]
  },
  {
   "cell_type": "code",
   "execution_count": 7,
   "metadata": {},
   "outputs": [],
   "source": [
    "df = pd.read_csv(\"ENB2012_data.csv\")"
   ]
  },
  {
   "cell_type": "code",
   "execution_count": 8,
   "metadata": {},
   "outputs": [
    {
     "data": {
      "text/html": [
       "<div>\n",
       "<style scoped>\n",
       "    .dataframe tbody tr th:only-of-type {\n",
       "        vertical-align: middle;\n",
       "    }\n",
       "\n",
       "    .dataframe tbody tr th {\n",
       "        vertical-align: top;\n",
       "    }\n",
       "\n",
       "    .dataframe thead th {\n",
       "        text-align: right;\n",
       "    }\n",
       "</style>\n",
       "<table border=\"1\" class=\"dataframe\">\n",
       "  <thead>\n",
       "    <tr style=\"text-align: right;\">\n",
       "      <th></th>\n",
       "      <th>X1</th>\n",
       "      <th>X2</th>\n",
       "      <th>X3</th>\n",
       "      <th>X4</th>\n",
       "      <th>X5</th>\n",
       "      <th>X6</th>\n",
       "      <th>X7</th>\n",
       "      <th>X8</th>\n",
       "      <th>Y1</th>\n",
       "      <th>Y2</th>\n",
       "    </tr>\n",
       "  </thead>\n",
       "  <tbody>\n",
       "    <tr>\n",
       "      <th>0</th>\n",
       "      <td>0.98</td>\n",
       "      <td>514.5</td>\n",
       "      <td>294.0</td>\n",
       "      <td>110.25</td>\n",
       "      <td>7.0</td>\n",
       "      <td>2</td>\n",
       "      <td>0.0</td>\n",
       "      <td>0</td>\n",
       "      <td>15.55</td>\n",
       "      <td>21.33</td>\n",
       "    </tr>\n",
       "    <tr>\n",
       "      <th>1</th>\n",
       "      <td>0.98</td>\n",
       "      <td>514.5</td>\n",
       "      <td>294.0</td>\n",
       "      <td>110.25</td>\n",
       "      <td>7.0</td>\n",
       "      <td>3</td>\n",
       "      <td>0.0</td>\n",
       "      <td>0</td>\n",
       "      <td>15.55</td>\n",
       "      <td>21.33</td>\n",
       "    </tr>\n",
       "    <tr>\n",
       "      <th>2</th>\n",
       "      <td>0.98</td>\n",
       "      <td>514.5</td>\n",
       "      <td>294.0</td>\n",
       "      <td>110.25</td>\n",
       "      <td>7.0</td>\n",
       "      <td>4</td>\n",
       "      <td>0.0</td>\n",
       "      <td>0</td>\n",
       "      <td>15.55</td>\n",
       "      <td>21.33</td>\n",
       "    </tr>\n",
       "    <tr>\n",
       "      <th>3</th>\n",
       "      <td>0.98</td>\n",
       "      <td>514.5</td>\n",
       "      <td>294.0</td>\n",
       "      <td>110.25</td>\n",
       "      <td>7.0</td>\n",
       "      <td>5</td>\n",
       "      <td>0.0</td>\n",
       "      <td>0</td>\n",
       "      <td>15.55</td>\n",
       "      <td>21.33</td>\n",
       "    </tr>\n",
       "    <tr>\n",
       "      <th>4</th>\n",
       "      <td>0.90</td>\n",
       "      <td>563.5</td>\n",
       "      <td>318.5</td>\n",
       "      <td>122.50</td>\n",
       "      <td>7.0</td>\n",
       "      <td>2</td>\n",
       "      <td>0.0</td>\n",
       "      <td>0</td>\n",
       "      <td>20.84</td>\n",
       "      <td>28.28</td>\n",
       "    </tr>\n",
       "  </tbody>\n",
       "</table>\n",
       "</div>"
      ],
      "text/plain": [
       "     X1     X2     X3      X4   X5  X6   X7  X8     Y1     Y2\n",
       "0  0.98  514.5  294.0  110.25  7.0   2  0.0   0  15.55  21.33\n",
       "1  0.98  514.5  294.0  110.25  7.0   3  0.0   0  15.55  21.33\n",
       "2  0.98  514.5  294.0  110.25  7.0   4  0.0   0  15.55  21.33\n",
       "3  0.98  514.5  294.0  110.25  7.0   5  0.0   0  15.55  21.33\n",
       "4  0.90  563.5  318.5  122.50  7.0   2  0.0   0  20.84  28.28"
      ]
     },
     "execution_count": 8,
     "metadata": {},
     "output_type": "execute_result"
    }
   ],
   "source": [
    "df.head()"
   ]
  },
  {
   "cell_type": "code",
   "execution_count": 9,
   "metadata": {},
   "outputs": [],
   "source": [
    "train, test = train_test_split(df, test_size=0.2)\n",
    "X_train = np.array(train.iloc[:,:-2])\n",
    "y_train = np.array(train.iloc[:,-2:])\n",
    "X_test = np.array(test.iloc[:,:-2])\n",
    "y_test = np.array(test.iloc[:,-2:])"
   ]
  },
  {
   "cell_type": "code",
   "execution_count": 10,
   "metadata": {},
   "outputs": [],
   "source": [
    "max_depth = 30\n",
    "regr_multirf = MultiOutputRegressor(RandomForestRegressor(n_estimators=100,\n",
    "                                                          max_depth=max_depth,\n",
    "                                                          random_state=0))\n",
    "regr_multirf.fit(X_train, y_train)\n",
    "\n",
    "y_multirf = regr_multirf.predict(X_test)"
   ]
  },
  {
   "cell_type": "code",
   "execution_count": 11,
   "metadata": {},
   "outputs": [
    {
     "data": {
      "text/plain": [
       "['multi_output_model.sav']"
      ]
     },
     "execution_count": 11,
     "metadata": {},
     "output_type": "execute_result"
    }
   ],
   "source": [
    "# save the model to disk\n",
    "model_name = 'multi_output_model.sav'\n",
    "joblib.dump(regr_multirf, model_name)"
   ]
  },
  {
   "cell_type": "code",
   "execution_count": 12,
   "metadata": {},
   "outputs": [
    {
     "data": {
      "text/plain": [
       "array([[7.100e-01, 7.105e+02, 2.695e+02, ..., 4.000e+00, 2.500e-01,\n",
       "        2.000e+00],\n",
       "       [6.900e-01, 7.350e+02, 2.940e+02, ..., 3.000e+00, 1.000e-01,\n",
       "        5.000e+00],\n",
       "       [7.600e-01, 6.615e+02, 4.165e+02, ..., 3.000e+00, 2.500e-01,\n",
       "        1.000e+00],\n",
       "       ...,\n",
       "       [9.800e-01, 5.145e+02, 2.940e+02, ..., 5.000e+00, 4.000e-01,\n",
       "        1.000e+00],\n",
       "       [6.900e-01, 7.350e+02, 2.940e+02, ..., 4.000e+00, 4.000e-01,\n",
       "        3.000e+00],\n",
       "       [6.400e-01, 7.840e+02, 3.430e+02, ..., 3.000e+00, 1.000e-01,\n",
       "        2.000e+00]])"
      ]
     },
     "execution_count": 12,
     "metadata": {},
     "output_type": "execute_result"
    }
   ],
   "source": [
    "X_test"
   ]
  },
  {
   "cell_type": "code",
   "execution_count": 13,
   "metadata": {},
   "outputs": [],
   "source": [
    "loaded_model = joblib.load(\"multi_output_model.sav\")"
   ]
  },
  {
   "cell_type": "code",
   "execution_count": 14,
   "metadata": {},
   "outputs": [],
   "source": [
    "prediction = loaded_model.predict(X_test)"
   ]
  },
  {
   "cell_type": "code",
   "execution_count": 34,
   "metadata": {},
   "outputs": [],
   "source": [
    "import json\n",
    "def load_tester(path):\n",
    "    with open(path) as f:\n",
    "        data = json.load(f)\n",
    "    print(data)\n",
    "    return np.asarray(list(data.values())).reshape(1,-1)   #reshape gives the input shape we need"
   ]
  },
  {
   "cell_type": "code",
   "execution_count": 35,
   "metadata": {},
   "outputs": [
    {
     "name": "stdout",
     "output_type": "stream",
     "text": [
      "{'Relative Compactness': 0.74, 'Surface Area': 588.0, 'Wall Area': 294.0, 'Roof Area': 147.0, 'Overall Height': 7.0, 'Orientation': 5, 'Glazing Area': 0.1, 'Glazing Area Distribution': 1}\n"
     ]
    }
   ],
   "source": [
    "new_data = load_tester(\"new_building.json\")\n"
   ]
  },
  {
   "cell_type": "code",
   "execution_count": 36,
   "metadata": {},
   "outputs": [
    {
     "data": {
      "text/plain": [
       "array([[7.40e-01, 5.88e+02, 2.94e+02, 1.47e+02, 7.00e+00, 5.00e+00,\n",
       "        1.00e-01, 1.00e+00]])"
      ]
     },
     "execution_count": 36,
     "metadata": {},
     "output_type": "execute_result"
    }
   ],
   "source": [
    "new_data"
   ]
  },
  {
   "cell_type": "code",
   "execution_count": 44,
   "metadata": {},
   "outputs": [],
   "source": [
    "loads = ['Heating','Cooling']\n",
    "#output is a 2d array that converts into a list of lists, need to take the first value\n",
    "pred_values = loaded_model.predict(new_data).tolist()[0]  "
   ]
  },
  {
   "cell_type": "code",
   "execution_count": 46,
   "metadata": {},
   "outputs": [],
   "source": [
    "response_to_api_call = dict(zip(loads, pred_values))"
   ]
  },
  {
   "cell_type": "code",
   "execution_count": 47,
   "metadata": {},
   "outputs": [
    {
     "name": "stdout",
     "output_type": "stream",
     "text": [
      "{'Heating': 21.106699999999993, 'Cooling': 24.3448}\n"
     ]
    }
   ],
   "source": [
    "print(response_to_api_call)"
   ]
  },
  {
   "cell_type": "code",
   "execution_count": 50,
   "metadata": {},
   "outputs": [],
   "source": [
    "import pandas as pd\n",
    "import numpy as np\n",
    "import joblib\n",
    "import os\n",
    "import sklearn\n",
    "from sklearn.linear_model import LinearRegression\n",
    "from sklearn.ensemble import RandomForestRegressor\n",
    "from sklearn.model_selection import train_test_split\n",
    "from sklearn.multioutput import MultiOutputRegressor\n",
    "import json\n",
    "\n",
    "def load_tester(path):\n",
    "    with open(path) as f:\n",
    "        data = json.load(f)\n",
    "    return np.asarray(list(data.values())).reshape(1,-1)  \n",
    "\n",
    "\n",
    "def predict_loads(json_file):\n",
    "    new_data = load_tester(json_file)\n",
    "    loaded_model = joblib.load(\"multi_output_model.sav\")\n",
    "    loads = ['Heating','Cooling']\n",
    "    pred_values = loaded_model.predict(new_data).tolist()[0] \n",
    "    response_to_api_call = dict(zip(loads, pred_values))\n",
    "    print(response_to_api_call)"
   ]
  },
  {
   "cell_type": "code",
   "execution_count": 51,
   "metadata": {},
   "outputs": [
    {
     "name": "stdout",
     "output_type": "stream",
     "text": [
      "{'Heating': 21.106699999999993, 'Cooling': 24.3448}\n"
     ]
    }
   ],
   "source": [
    "predict_loads(\"new_building.json\")"
   ]
  },
  {
   "cell_type": "code",
   "execution_count": 56,
   "metadata": {},
   "outputs": [
    {
     "name": "stdout",
     "output_type": "stream",
     "text": [
      "Overwriting regression_model.py\n"
     ]
    }
   ],
   "source": [
    "%%file regression_model.py\n",
    "import pandas as pd\n",
    "import numpy as np\n",
    "import joblib\n",
    "import json\n",
    "import sys\n",
    "\n",
    "def load_tester(file):\n",
    "    with open(file) as f:\n",
    "        data = json.load(f)\n",
    "    return np.asarray(list(data.values())).reshape(1,-1)  \n",
    "\n",
    "\n",
    "def predict_loads(json_file):\n",
    "    new_data = load_tester(json_file)\n",
    "    loaded_model = joblib.load(\"multi_output_model.sav\")\n",
    "    loads = ['Heating','Cooling']\n",
    "    pred_values = loaded_model.predict(new_data).tolist()[0] \n",
    "    response_to_api_call = dict(zip(loads, pred_values))\n",
    "    print(response_to_api_call)\n",
    "\n",
    "new_data = sys.argv[1]\n",
    "predict_loads(new_data)"
   ]
  },
  {
   "cell_type": "code",
   "execution_count": 57,
   "metadata": {},
   "outputs": [],
   "source": [
    "import requests"
   ]
  },
  {
   "cell_type": "code",
   "execution_count": 2,
   "metadata": {},
   "outputs": [],
   "source": [
    "import flask"
   ]
  },
  {
   "cell_type": "code",
   "execution_count": 80,
   "metadata": {},
   "outputs": [
    {
     "name": "stdout",
     "output_type": "stream",
     "text": [
      "Overwriting app_flask.py\n"
     ]
    }
   ],
   "source": [
    "%%file app_flask.py\n",
    "from flask import Flask, request\n",
    "from werkzeug.utils import secure_filename\n",
    "\n",
    "app = Flask(__name__)\n",
    "\n",
    "from flask import Flask, jsonify, request\n",
    "\n",
    "app = Flask(__name__)\n",
    "\n",
    "incomes = [\n",
    "  { 'description': 'salary', 'amount': 5000 }\n",
    "]\n",
    "\n",
    "@app.route('/incomes')\n",
    "def get_incomes():\n",
    "  return jsonify(incomes)\n",
    "\n",
    "\n",
    "@app.route('/incomes', methods=['POST'])\n",
    "def add_income():\n",
    "  incomes.append(request.get_json())\n",
    "  return '', 204\n",
    "\n",
    "if __name__==\"__main__\":\n",
    "    app.run(port=5000, debug=True)"
   ]
  },
  {
   "cell_type": "code",
   "execution_count": 75,
   "metadata": {},
   "outputs": [
    {
     "data": {
      "text/plain": [
       "['ENB2012_data.csv',\n",
       " 'new_building.json',\n",
       " 'Dockerfile',\n",
       " 'multi_output_model.sav',\n",
       " 'MultiOutput_RandomForest_Regressor.ipynb',\n",
       " 'app_flask.py',\n",
       " 'regression_model.py',\n",
       " '.ipynb_checkpoints']"
      ]
     },
     "execution_count": 75,
     "metadata": {},
     "output_type": "execute_result"
    }
   ],
   "source": [
    "os.listdir()"
   ]
  },
  {
   "cell_type": "code",
   "execution_count": 42,
   "metadata": {},
   "outputs": [
    {
     "name": "stdout",
     "output_type": "stream",
     "text": [
      "Overwriting multioutput_rf_flask_app.py\n"
     ]
    }
   ],
   "source": [
    "%%file multioutput_rf_flask_app.py\n",
    "from flask import Flask, request\n",
    "from werkzeug.utils import secure_filename\n",
    "import pandas as pd\n",
    "import numpy as np\n",
    "import joblib\n",
    "import json\n",
    "import sys\n",
    "\n",
    "app = Flask(__name__)\n",
    "\n",
    "from flask import Flask, jsonify, request\n",
    "\n",
    "app = Flask(__name__)\n",
    "\n",
    "@app.route(\"/\")\n",
    "def hello_world():\n",
    "    return \"Hello, this is the app for Energy Load Estimates.\\n\"\n",
    "\n",
    "building_parameters = []\n",
    "\n",
    "# @app.route('/building_parameters', methods=['POST'])\n",
    "# def receive_building_parameters():\n",
    "#     building_parameters.append(request.get_json())\n",
    "#     #return '', 204\n",
    "#     return jsonify(building_parameters[-1])\n",
    "\n",
    "@app.route('/get_estimates', methods=['POST'])\n",
    "def predict_loads():\n",
    "    building_parameters.append(request.get_json())\n",
    "    new_data = np.asarray(list(building_parameters[-1].values())).reshape(1,-1)\n",
    "    loaded_model = joblib.load(\"multi_output_model.sav\")\n",
    "    loads = ['Heating','Cooling']\n",
    "    pred_values = loaded_model.predict(new_data).tolist()[0] \n",
    "    response_to_api_call = dict(zip(loads, pred_values))\n",
    "    return jsonify(response_to_api_call)\n",
    "\n",
    "if __name__==\"__main__\":\n",
    "    app.run(port=5000, host='0.0.0.0',debug=True)"
   ]
  },
  {
   "cell_type": "markdown",
   "metadata": {},
   "source": [
    "$ curl http://127.0.0.1:5000/\n",
    "\n",
    "Hello, this is the app for Energy Load Estimates"
   ]
  },
  {
   "cell_type": "markdown",
   "metadata": {},
   "source": [
    "$ curl -X POST -H \"Content-Type: application/json\" -d '{\n",
    "    \"Relative Compactness\": 0.74,\n",
    "    \"Surface Area\": 588.00,\n",
    "    \"Wall Area\": 294.00,\n",
    "    \"Roof Area\": 147.00,\n",
    "    \"Overall Height\": 7.00,\n",
    "    \"Orientation\": 5,\n",
    "    \"Glazing Area\": 0.10,\n",
    "    \"Glazing Area Distribution\": 1\n",
    "}' http://0.0.0.0:5000/get_estimates"
   ]
  },
  {
   "cell_type": "code",
   "execution_count": 23,
   "metadata": {},
   "outputs": [],
   "source": [
    "est = [\n",
    "  {\n",
    "    \"Glazing Area\": 0.1,\n",
    "    \"Glazing Area Distribution\": 1,\n",
    "    \"Orientation\": 5,\n",
    "    \"Overall Height\": 7.0,\n",
    "    \"Relative Compactness\": 0.74,\n",
    "    \"Roof Area\": 147.0,\n",
    "    \"Surface Area\": 588.0,\n",
    "    \"Wall Area\": 294.0\n",
    "  },\n",
    "  {\n",
    "    \"Glazing Area\": 0.2,\n",
    "    \"Glazing Area Distribution\": 1,\n",
    "    \"Orientation\": 4,\n",
    "    \"Overall Height\": 7.0,\n",
    "    \"Relative Compactness\": 0.74,\n",
    "    \"Roof Area\": 147.0,\n",
    "    \"Surface Area\": 588.0,\n",
    "    \"Wall Area\": 294.0\n",
    "  }\n",
    "]"
   ]
  },
  {
   "cell_type": "code",
   "execution_count": null,
   "metadata": {},
   "outputs": [],
   "source": [
    "$ curl http://0.0.0.0:5000/\n",
    "\n",
    "$ curl -X POST -H \"Content-Type: application/json\" -d '{\n",
    "    \"Relative Compactness\": 0.74,\n",
    "    \"Surface Area\": 588.00,\n",
    "    \"Wall Area\": 294.00,\n",
    "    \"Roof Area\": 147.00,\n",
    "    \"Overall Height\": 7.00,\n",
    "    \"Orientation\": 5,\n",
    "    \"Glazing Area\": 0.10,\n",
    "    \"Glazing Area Distribution\": 1\n",
    "}' http://0.0.0.0:5000/get_estimates"
   ]
  }
 ],
 "metadata": {
  "kernelspec": {
   "display_name": "Python 3",
   "language": "python",
   "name": "python3"
  },
  "language_info": {
   "codemirror_mode": {
    "name": "ipython",
    "version": 3
   },
   "file_extension": ".py",
   "mimetype": "text/x-python",
   "name": "python",
   "nbconvert_exporter": "python",
   "pygments_lexer": "ipython3",
   "version": "3.6.8"
  }
 },
 "nbformat": 4,
 "nbformat_minor": 2
}
